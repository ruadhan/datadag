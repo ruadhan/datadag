{
  "nbformat": 4,
  "nbformat_minor": 0,
  "metadata": {
    "colab": {
      "name": "dogs_vs_cats1.ipynb",
      "provenance": [],
      "collapsed_sections": [],
      "authorship_tag": "ABX9TyNB88r+ntxQnnDqmZiKIKD0",
      "include_colab_link": true
    },
    "kernelspec": {
      "name": "python3",
      "display_name": "Python 3"
    },
    "accelerator": "GPU"
  },
  "cells": [
    {
      "cell_type": "markdown",
      "metadata": {
        "id": "view-in-github",
        "colab_type": "text"
      },
      "source": [
        "<a href=\"https://colab.research.google.com/github/ruadhan/datadag/blob/master/dogs_vs_cats1.ipynb\" target=\"_parent\"><img src=\"https://colab.research.google.com/assets/colab-badge.svg\" alt=\"Open In Colab\"/></a>"
      ]
    },
    {
      "cell_type": "markdown",
      "metadata": {
        "id": "ZG3iRg9mTUyN",
        "colab_type": "text"
      },
      "source": [
        "**Let op! Klik bovenin bij \"Runtime\" op \"Change runtime type\" en zet de \"Hardware accelerator\" op \"GPU\". Anders kan je een hoop kopjes koffie halen tijdens deze workshop.**"
      ]
    },
    {
      "cell_type": "markdown",
      "metadata": {
        "id": "0vaW5MPqSLJi",
        "colab_type": "text"
      },
      "source": [
        "De data die we gebruiken komt van de Kaggle [Dogs vs Cats dataset](https://www.kaggle.com/c/dogs-vs-cats/data). Deze dataset bestaat uit 25.000 plaatjes van katten en honden. Omdat dit nogal veel is heb ik een kleine sample van 4000 plaatjes genomen en alvast in een nette mapstructuur gezet. Met onderstaand commando kan je ze snel downloaden naar je Colab omgeving."
      ]
    },
    {
      "cell_type": "code",
      "metadata": {
        "id": "rmmZEC5gcLtT",
        "colab_type": "code",
        "colab": {}
      },
      "source": [
        "!git clone https://github.com/ruadhan/dogs_vs_cats"
      ],
      "execution_count": 0,
      "outputs": []
    },
    {
      "cell_type": "markdown",
      "metadata": {
        "id": "1g5BQhdfUJjc",
        "colab_type": "text"
      },
      "source": [
        "We zetten even alle directories in variabelen zodat we er later makkelijk mee kunnen werken"
      ]
    },
    {
      "cell_type": "code",
      "metadata": {
        "id": "S-iNSxk6cbIp",
        "colab_type": "code",
        "colab": {}
      },
      "source": [
        "train_dir = 'dogs_vs_cats/train'\n",
        "validation_dir = 'dogs_vs_cats/validation'\n",
        "test_dir = 'dogs_vs_cats/test'\n",
        "\n",
        "train_cats_dir = 'dogs_vs_cats/train/cats'\n",
        "train_dogs_dir = 'dogs_vs_cats/train/dogs'\n",
        "\n",
        "validation_cats_dir = 'dogs_vs_cats/validation/cats'\n",
        "validation_dogs_dir = 'dogs_vs_cats/validation/dogs'\n",
        "\n",
        "test_cats_dir = 'dogs_vs_cats/test/cats'\n",
        "test_dogs_dir = 'dogs_vs_cats/test/dogs'"
      ],
      "execution_count": 0,
      "outputs": []
    },
    {
      "cell_type": "markdown",
      "metadata": {
        "id": "jPUO3v8BUX7g",
        "colab_type": "text"
      },
      "source": [
        "Even checken hoeveel plaatjes in welke folder zitten"
      ]
    },
    {
      "cell_type": "code",
      "metadata": {
        "id": "gNxjqr7dc5GR",
        "colab_type": "code",
        "colab": {}
      },
      "source": [
        "import os\n",
        "\n",
        "print('total training cat images:', len(os.listdir(train_cats_dir)))\n",
        "print('total training dog images:', len(os.listdir(train_dogs_dir)))\n",
        "print('total validation cat images:', len(os.listdir(validation_cats_dir)))\n",
        "print('total validation dog images:', len(os.listdir(validation_dogs_dir)))\n",
        "print('total test cat images:', len(os.listdir(test_cats_dir)))\n",
        "print('total test dog images:', len(os.listdir(test_dogs_dir)))"
      ],
      "execution_count": 0,
      "outputs": []
    },
    {
      "cell_type": "markdown",
      "metadata": {
        "id": "-P5LsFEOUk2t",
        "colab_type": "text"
      },
      "source": [
        "We gebruiken hier een de [ImageDataGenerator](https://keras.io/preprocessing/image/) van Keras om onze plaatjes makkelijk in het neurale netwerk te laden. (Later kunnen we deze ook gebruiken om extra plaatjes te genereren.)"
      ]
    },
    {
      "cell_type": "code",
      "metadata": {
        "id": "s5lveen3gG0E",
        "colab_type": "code",
        "colab": {}
      },
      "source": [
        "from keras.preprocessing.image import ImageDataGenerator\n",
        "\n",
        "# All images will be rescaled by 1./255\n",
        "train_datagen = ImageDataGenerator(rescale=1./255)\n",
        "test_datagen = ImageDataGenerator(rescale=1./255)\n",
        "\n",
        "train_generator = train_datagen.flow_from_directory(\n",
        "        # This is the target directory\n",
        "        train_dir,\n",
        "        # All images will be resized to 150x150\n",
        "        target_size=(150, 150),\n",
        "        batch_size=20,\n",
        "        # Since we use binary_crossentropy loss, we need binary labels\n",
        "        class_mode='binary')\n",
        "\n",
        "validation_generator = test_datagen.flow_from_directory(\n",
        "        validation_dir,\n",
        "        target_size=(150, 150),\n",
        "        batch_size=20,\n",
        "        class_mode='binary')"
      ],
      "execution_count": 0,
      "outputs": []
    },
    {
      "cell_type": "markdown",
      "metadata": {
        "id": "3UyqJrFZQTQx",
        "colab_type": "text"
      },
      "source": [
        "Nu komt het echte werk, jullie mogen zelf een convolutional neural network bouwen. Hiervoor gebruiken we een [sequential model](https://keras.io/getting-started/sequential-model-guide/), wat inhoud dat je laagje voor laagje je layers moet toevoegen. Voor extra hints is hier de documentatie van \n",
        "[convolutional layers](https://keras.io/layers/convolutional/), [max pooling layers](https://keras.io/layers/pooling/) en hier vind je de \n",
        "[flatten layer](https://keras.io/layers/core/). (Let op: de eerste laag is afwijkend en moet een input_shape variable bevatten)"
      ]
    },
    {
      "cell_type": "code",
      "metadata": {
        "id": "bF8ASeJ3c6Xe",
        "colab_type": "code",
        "colab": {}
      },
      "source": [
        "from keras import layers, models\n",
        "\n",
        "model = models.Sequential()\n",
        "#TODO: Maak je model met de verschillende layers"
      ],
      "execution_count": 0,
      "outputs": []
    },
    {
      "cell_type": "markdown",
      "metadata": {
        "id": "Szc-gtF6darZ",
        "colab_type": "text"
      },
      "source": [
        "Als je model af is kan je met deze code een samenvatting bekijken. Bij \"Output Shape\" kan je zien hoe groot je overgeleven plaatje nog is. Let op dat dit niet onder de nul komt."
      ]
    },
    {
      "cell_type": "code",
      "metadata": {
        "id": "EmfZMJgPf1rF",
        "colab_type": "code",
        "colab": {}
      },
      "source": [
        "model.summary()"
      ],
      "execution_count": 0,
      "outputs": []
    },
    {
      "cell_type": "markdown",
      "metadata": {
        "id": "T2wG1isXeUL2",
        "colab_type": "text"
      },
      "source": [
        "We compileren het model met een bepaalde optimizer, en een loss function die bij ons probleem hoort."
      ]
    },
    {
      "cell_type": "code",
      "metadata": {
        "id": "8GyHLt5Cf5Hw",
        "colab_type": "code",
        "colab": {}
      },
      "source": [
        "from keras import optimizers\n",
        "\n",
        "model.compile(loss='binary_crossentropy',\n",
        "              optimizer=optimizers.RMSprop(lr=1e-4),\n",
        "              metrics=['acc'])"
      ],
      "execution_count": 0,
      "outputs": []
    },
    {
      "cell_type": "markdown",
      "metadata": {
        "id": "fBZklbEBha2Y",
        "colab_type": "text"
      },
      "source": [
        "Nu gaan we ons model 'fitten' aan de dataset. Let op, nu is het moment om koffie voor jezelf te zetten! Eventueel kan je spelen met de hyperparameters."
      ]
    },
    {
      "cell_type": "code",
      "metadata": {
        "id": "m-GdPWDlgeun",
        "colab_type": "code",
        "colab": {}
      },
      "source": [
        "history = model.fit_generator(\n",
        "      train_generator,\n",
        "      steps_per_epoch=100,\n",
        "      epochs=30,\n",
        "      validation_data=validation_generator,\n",
        "      validation_steps=50)"
      ],
      "execution_count": 0,
      "outputs": []
    },
    {
      "cell_type": "markdown",
      "metadata": {
        "id": "CAiayPxQie7c",
        "colab_type": "text"
      },
      "source": [
        "Omdat we dit niet weer willen meemaken slaan we het gefitte model op. (Let op, als je iets veranderd aan het netwerk moet je hem wel opnieuw fitten)"
      ]
    },
    {
      "cell_type": "code",
      "metadata": {
        "id": "CaCmllkrs0iz",
        "colab_type": "code",
        "colab": {}
      },
      "source": [
        "model.save('cats_and_dogs_small_1.h5')"
      ],
      "execution_count": 0,
      "outputs": []
    },
    {
      "cell_type": "markdown",
      "metadata": {
        "id": "HudOjAcfi41l",
        "colab_type": "text"
      },
      "source": [
        "En even plotten hoe goed/slecht ons model is."
      ]
    },
    {
      "cell_type": "code",
      "metadata": {
        "id": "mU-wDidTg-Bz",
        "colab_type": "code",
        "colab": {}
      },
      "source": [
        "import matplotlib.pyplot as plt\n",
        "\n",
        "acc = history.history['acc']\n",
        "val_acc = history.history['val_acc']\n",
        "loss = history.history['loss']\n",
        "val_loss = history.history['val_loss']\n",
        "\n",
        "epochs = range(len(acc))\n",
        "\n",
        "plt.plot(epochs, acc, 'bo', label='Training acc')\n",
        "plt.plot(epochs, val_acc, 'b', label='Validation acc')\n",
        "plt.title('Training and validation accuracy')\n",
        "plt.legend()\n",
        "\n",
        "plt.figure()\n",
        "\n",
        "plt.plot(epochs, loss, 'bo', label='Training loss')\n",
        "plt.plot(epochs, val_loss, 'b', label='Validation loss')\n",
        "plt.title('Training and validation loss')\n",
        "plt.legend()\n",
        "\n",
        "plt.show()"
      ],
      "execution_count": 0,
      "outputs": []
    },
    {
      "cell_type": "code",
      "metadata": {
        "id": "1l4hcRIRjMxD",
        "colab_type": "code",
        "colab": {}
      },
      "source": [
        ""
      ],
      "execution_count": 0,
      "outputs": []
    }
  ]
}